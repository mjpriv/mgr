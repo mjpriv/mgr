{
 "cells": [
  {
   "cell_type": "code",
   "execution_count": 2,
   "metadata": {
    "collapsed": true
   },
   "outputs": [],
   "source": [
    "import numpy as np\n",
    "from itertools import combinations\n",
    "from scipy.sparse import dok_matrix\n",
    "from operator import add"
   ]
  },
  {
   "cell_type": "code",
   "execution_count": 3,
   "metadata": {
    "collapsed": true
   },
   "outputs": [],
   "source": [
    "class SimplicialComplex:\n",
    "    def __init__(self, simplices=[]):\n",
    "        self.import_simplices(simplices=simplices)\n",
    " \n",
    "    def import_simplices(self, simplices=[]):\n",
    "        self.simplices = map(lambda simplex: tuple(sorted(simplex)), simplices)\n",
    "        self.face_set = self.faces()\n",
    "    def faces(self):\n",
    "        faceset = set()\n",
    "        for simplex in self.simplices:\n",
    "            numnodes = len(simplex)\n",
    "            for r in range(numnodes, 0, -1):\n",
    "                for face in combinations(simplex, r):\n",
    "                    faceset.add(face)\n",
    "        return faceset\n",
    "    def n_faces(self, n):\n",
    "        return filter(lambda face: len(face)==n+1, self.face_set)"
   ]
  },
  {
   "cell_type": "code",
   "execution_count": 4,
   "metadata": {
    "collapsed": true
   },
   "outputs": [],
   "source": [
    "sc = SimplicialComplex([('a', 'b', 'c', 'd')])"
   ]
  },
  {
   "cell_type": "code",
   "execution_count": 5,
   "metadata": {},
   "outputs": [
    {
     "name": "stdout",
     "output_type": "stream",
     "text": [
      "[('e', 'f', 'g', 'h'), ('a', 'b', 'c', 'd')]\n"
     ]
    }
   ],
   "source": [
    "print(list(map(lambda simplex: tuple(sorted(simplex)), [('f', 'e', 'g', 'h'), ('a', 'b', 'c', 'd')])))"
   ]
  },
  {
   "cell_type": "code",
   "execution_count": 6,
   "metadata": {
    "scrolled": true
   },
   "outputs": [
    {
     "data": {
      "text/plain": [
       "{('a',),\n",
       " ('a', 'b'),\n",
       " ('a', 'b', 'c'),\n",
       " ('a', 'b', 'c', 'd'),\n",
       " ('a', 'b', 'd'),\n",
       " ('a', 'c'),\n",
       " ('a', 'c', 'd'),\n",
       " ('a', 'd'),\n",
       " ('b',),\n",
       " ('b', 'c'),\n",
       " ('b', 'c', 'd'),\n",
       " ('b', 'd'),\n",
       " ('c',),\n",
       " ('c', 'd'),\n",
       " ('d',)}"
      ]
     },
     "execution_count": 6,
     "metadata": {},
     "output_type": "execute_result"
    }
   ],
   "source": [
    "sc.face_set"
   ]
  },
  {
   "cell_type": "code",
   "execution_count": 43,
   "metadata": {
    "collapsed": true
   },
   "outputs": [],
   "source": [
    "import networkx as nx\n",
    "import itertools\n",
    "from scipy.spatial import distance\n",
    "from itertools import product\n",
    " \n",
    "class VietorisRipsComplex(SimplicialComplex):\n",
    "    def __init__(self, points, epsilon, labels=None, distfcn=distance.euclidean):\n",
    "        self.pts = points\n",
    "        self.labels = range(len(self.pts)) if labels==None or len(labels)!=len(self.pts) else labels\n",
    "        self.epsilon = epsilon\n",
    "        self.distfcn = distfcn\n",
    "        self.network = self.construct_network(self.pts, self.labels, self.epsilon, self.distfcn)\n",
    "        self.import_simplices(map(tuple, list(nx.find_cliques(self.network))))\n",
    " \n",
    "    def construct_network(self, points, labels, epsilon, distfcn):\n",
    "        g = nx.Graph()\n",
    "        g.add_nodes_from(labels)\n",
    "        zips = zip(points, labels)\n",
    "        for pair in product(zips, zips):\n",
    "            if pair[0][1]!=pair[1][1]:\n",
    "                dist = distfcn(pair[0][0], pair[1][0])\n",
    "                if dist < epsilon:\n",
    "                    g.add_edge(pair[0][1], pair[1][1])\n",
    "        return g"
   ]
  },
  {
   "cell_type": "code",
   "execution_count": 23,
   "metadata": {
    "collapsed": true
   },
   "outputs": [],
   "source": [
    "def construct_network(self, points, labels, epsilon, distfcn):\n",
    "        g = nx.Graph()\n",
    "        g.add_nodes_from(labels)\n",
    "        zips = zip(points, labels)\n",
    "        for pair in product(zips, zips):\n",
    "            if pair[0][1]!=pair[1][1]:\n",
    "                dist = distfcn(pair[0][0], pair[1][0])\n",
    "                if dist < epsilon:\n",
    "                    g.add_edge(pair[0][1], pair[1][1])\n",
    "        return g"
   ]
  },
  {
   "cell_type": "code",
   "execution_count": 100,
   "metadata": {},
   "outputs": [
    {
     "data": {
      "text/plain": [
       "EdgeView([((0.1, 0.2, 0.1, 0.1), (0.1, 0.1, 0.1, 0.1)), ((0.1, 0.2, 0.1, 0.1), (0.8, 0.5, 0.3, 0.2)), ((0.1, 0.1, 0.1, 0.1), (0.8, 0.5, 0.3, 0.2))])"
      ]
     },
     "execution_count": 100,
     "metadata": {},
     "output_type": "execute_result"
    }
   ],
   "source": [
    "epsilon = 1\n",
    "distfcn=distance.euclidean\n",
    "g = nx.Graph()\n",
    "points =  [(0.1, 0.2, 0.1, 0.1), (0.1, 0.1, 0.1, 0.1), (0.8, 0.5, 0.3, 0.2)]\n",
    "prod = list(product(points, points))\n",
    "for pair in prod:\n",
    "    if pair[0]!=pair[1]:\n",
    "        dist = distfcn(pair[0], pair[1])\n",
    "        if dist < epsilon:\n",
    "            g.add_edge(pair[0], pair[1])\n",
    "g.edges()"
   ]
  },
  {
   "cell_type": "code",
   "execution_count": 97,
   "metadata": {},
   "outputs": [
    {
     "ename": "NameError",
     "evalue": "name 'add_edge' is not defined",
     "output_type": "error",
     "traceback": [
      "\u001b[1;31m---------------------------------------------------------------------------\u001b[0m",
      "\u001b[1;31mNameError\u001b[0m                                 Traceback (most recent call last)",
      "\u001b[1;32m<ipython-input-97-d3c396751393>\u001b[0m in \u001b[0;36m<module>\u001b[1;34m()\u001b[0m\n\u001b[1;32m----> 1\u001b[1;33m \u001b[0mhelp\u001b[0m\u001b[1;33m(\u001b[0m\u001b[0madd_edge\u001b[0m\u001b[1;33m)\u001b[0m\u001b[1;33m\u001b[0m\u001b[0m\n\u001b[0m",
      "\u001b[1;31mNameError\u001b[0m: name 'add_edge' is not defined"
     ]
    }
   ],
   "source": [
    "help(add_edge)"
   ]
  },
  {
   "cell_type": "code",
   "execution_count": 16,
   "metadata": {},
   "outputs": [],
   "source": [
    "vrc = VietorisRipsComplex(points = [(0.1, 0.1, 0.1, 0.1), (0.1, 0.1, 0.1, 0.1)], epsilon = 1)"
   ]
  },
  {
   "cell_type": "code",
   "execution_count": 22,
   "metadata": {},
   "outputs": [
    {
     "data": {
      "text/plain": [
       "<networkx.classes.graph.Graph at 0x1f4ab0365c0>"
      ]
     },
     "execution_count": 22,
     "metadata": {},
     "output_type": "execute_result"
    }
   ],
   "source": [
    "vrc.network"
   ]
  },
  {
   "cell_type": "code",
   "execution_count": 14,
   "metadata": {},
   "outputs": [
    {
     "data": {
      "text/plain": [
       "EdgeView([])"
      ]
     },
     "execution_count": 14,
     "metadata": {},
     "output_type": "execute_result"
    }
   ],
   "source": [
    "vrc.network.edges()"
   ]
  },
  {
   "cell_type": "code",
   "execution_count": 9,
   "metadata": {
    "collapsed": true
   },
   "outputs": [],
   "source": [
    "from importlib import reload \n",
    "reload(vrc)\n",
    "\n",
    "sc = vrc.SimplicialComplex([('f', 'e', 'g', 'h'), ('a', 'b', 'c', 'd')])\n"
   ]
  },
  {
   "cell_type": "code",
   "execution_count": 11,
   "metadata": {
    "collapsed": true
   },
   "outputs": [],
   "source": [
    "vc = vrc.VietorisRipsComplex(sc, epsilon = 1)"
   ]
  },
  {
   "cell_type": "code",
   "execution_count": 12,
   "metadata": {},
   "outputs": [
    {
     "data": {
      "text/plain": [
       "<vrc.VietorisRipsComplex at 0x211965b4e10>"
      ]
     },
     "execution_count": 12,
     "metadata": {},
     "output_type": "execute_result"
    }
   ],
   "source": [
    "vc"
   ]
  },
  {
   "cell_type": "code",
   "execution_count": null,
   "metadata": {
    "collapsed": true
   },
   "outputs": [],
   "source": []
  },
  {
   "cell_type": "code",
   "execution_count": null,
   "metadata": {
    "collapsed": true
   },
   "outputs": [],
   "source": []
  }
 ],
 "metadata": {
  "kernelspec": {
   "display_name": "Python 3",
   "language": "python",
   "name": "python3"
  },
  "language_info": {
   "codemirror_mode": {
    "name": "ipython",
    "version": 3
   },
   "file_extension": ".py",
   "mimetype": "text/x-python",
   "name": "python",
   "nbconvert_exporter": "python",
   "pygments_lexer": "ipython3",
   "version": "3.6.3"
  }
 },
 "nbformat": 4,
 "nbformat_minor": 2
}
