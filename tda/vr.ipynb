{
 "cells": [
  {
   "cell_type": "code",
   "execution_count": 2,
   "metadata": {
    "collapsed": true
   },
   "outputs": [],
   "source": [
    "import numpy as np\n",
    "from itertools import combinations\n",
    "from scipy.sparse import dok_matrix\n",
    "from operator import add"
   ]
  },
  {
   "cell_type": "code",
   "execution_count": 3,
   "metadata": {
    "collapsed": true
   },
   "outputs": [],
   "source": [
    "class SimplicialComplex:\n",
    "    def __init__(self, simplices=[]):\n",
    "        self.import_simplices(simplices=simplices)\n",
    " \n",
    "    def import_simplices(self, simplices=[]):\n",
    "        self.simplices = map(lambda simplex: tuple(sorted(simplex)), simplices)\n",
    "        self.face_set = self.faces()\n",
    "    def faces(self):\n",
    "        faceset = set()\n",
    "        for simplex in self.simplices:\n",
    "            numnodes = len(simplex)\n",
    "            for r in range(numnodes, 0, -1):\n",
    "                for face in combinations(simplex, r):\n",
    "                    faceset.add(face)\n",
    "        return faceset\n",
    "    def n_faces(self, n):\n",
    "        return filter(lambda face: len(face)==n+1, self.face_set)"
   ]
  },
  {
   "cell_type": "code",
   "execution_count": 4,
   "metadata": {
    "collapsed": true
   },
   "outputs": [],
   "source": [
    "sc = SimplicialComplex([('a', 'b', 'c', 'd')])"
   ]
  },
  {
   "cell_type": "code",
   "execution_count": 5,
   "metadata": {},
   "outputs": [
    {
     "name": "stdout",
     "output_type": "stream",
     "text": [
      "[('e', 'f', 'g', 'h'), ('a', 'b', 'c', 'd')]\n"
     ]
    }
   ],
   "source": [
    "print(list(map(lambda simplex: tuple(sorted(simplex)), [('f', 'e', 'g', 'h'), ('a', 'b', 'c', 'd')])))"
   ]
  },
  {
   "cell_type": "code",
   "execution_count": 6,
   "metadata": {
    "scrolled": true
   },
   "outputs": [
    {
     "data": {
      "text/plain": [
       "{('a',),\n",
       " ('a', 'b'),\n",
       " ('a', 'b', 'c'),\n",
       " ('a', 'b', 'c', 'd'),\n",
       " ('a', 'b', 'd'),\n",
       " ('a', 'c'),\n",
       " ('a', 'c', 'd'),\n",
       " ('a', 'd'),\n",
       " ('b',),\n",
       " ('b', 'c'),\n",
       " ('b', 'c', 'd'),\n",
       " ('b', 'd'),\n",
       " ('c',),\n",
       " ('c', 'd'),\n",
       " ('d',)}"
      ]
     },
     "execution_count": 6,
     "metadata": {},
     "output_type": "execute_result"
    }
   ],
   "source": [
    "sc.face_set"
   ]
  },
  {
   "cell_type": "code",
   "execution_count": 43,
   "metadata": {
    "collapsed": true
   },
   "outputs": [],
   "source": [
    "import networkx as nx\n",
    "import itertools\n",
    "from scipy.spatial import distance\n",
    "from itertools import product\n",
    " \n",
    "class VietorisRipsComplex(SimplicialComplex):\n",
    "    def __init__(self, points, epsilon, labels=None, distfcn=distance.euclidean):\n",
    "        self.pts = points\n",
    "        self.labels = range(len(self.pts)) if labels==None or len(labels)!=len(self.pts) else labels\n",
    "        self.epsilon = epsilon\n",
    "        self.distfcn = distfcn\n",
    "        self.network = self.construct_network(self.pts, self.labels, self.epsilon, self.distfcn)\n",
    "        self.import_simplices(map(tuple, list(nx.find_cliques(self.network))))\n",
    " \n",
    "    def construct_network(self, points, labels, epsilon, distfcn):\n",
    "        g = nx.Graph()\n",
    "        g.add_nodes_from(labels)\n",
    "        zips = zip(points, labels)\n",
    "        for pair in product(zips, zips):\n",
    "            if pair[0][1]!=pair[1][1]:\n",
    "                dist = distfcn(pair[0][0], pair[1][0])\n",
    "                if dist < epsilon:\n",
    "                    g.add_edge(pair[0][1], pair[1][1])\n",
    "        return g"
   ]
  },
  {
   "cell_type": "code",
   "execution_count": 23,
   "metadata": {
    "collapsed": true
   },
   "outputs": [],
   "source": [
    "def construct_network(self, points, labels, epsilon, distfcn):\n",
    "        g = nx.Graph()\n",
    "        g.add_nodes_from(labels)\n",
    "        zips = zip(points, labels)\n",
    "        for pair in product(zips, zips):\n",
    "            if pair[0][1]!=pair[1][1]:\n",
    "                dist = distfcn(pair[0][0], pair[1][0])\n",
    "                if dist < epsilon:\n",
    "                    g.add_edge(pair[0][1], pair[1][1])\n",
    "        return g"
   ]
  },
  {
   "cell_type": "code",
   "execution_count": 100,
   "metadata": {},
   "outputs": [
    {
     "data": {
      "text/plain": [
       "EdgeView([((0.1, 0.2, 0.1, 0.1), (0.1, 0.1, 0.1, 0.1)), ((0.1, 0.2, 0.1, 0.1), (0.8, 0.5, 0.3, 0.2)), ((0.1, 0.1, 0.1, 0.1), (0.8, 0.5, 0.3, 0.2))])"
      ]
     },
     "execution_count": 100,
     "metadata": {},
     "output_type": "execute_result"
    }
   ],
   "source": [
    "epsilon = 1\n",
    "distfcn=distance.euclidean\n",
    "g = nx.Graph()\n",
    "points =  [(0.1, 0.2, 0.1, 0.1), (0.1, 0.1, 0.1, 0.1), (0.8, 0.5, 0.3, 0.2)]\n",
    "prod = list(product(points, points))\n",
    "for pair in prod:\n",
    "    if pair[0]!=pair[1]:\n",
    "        dist = distfcn(pair[0], pair[1])\n",
    "        if dist < epsilon:\n",
    "            g.add_edge(pair[0], pair[1])\n",
    "g.edges()"
   ]
  },
  {
   "cell_type": "code",
   "execution_count": 97,
   "metadata": {},
   "outputs": [
    {
     "ename": "NameError",
     "evalue": "name 'add_edge' is not defined",
     "output_type": "error",
     "traceback": [
      "\u001b[1;31m---------------------------------------------------------------------------\u001b[0m",
      "\u001b[1;31mNameError\u001b[0m                                 Traceback (most recent call last)",
      "\u001b[1;32m<ipython-input-97-d3c396751393>\u001b[0m in \u001b[0;36m<module>\u001b[1;34m()\u001b[0m\n\u001b[1;32m----> 1\u001b[1;33m \u001b[0mhelp\u001b[0m\u001b[1;33m(\u001b[0m\u001b[0madd_edge\u001b[0m\u001b[1;33m)\u001b[0m\u001b[1;33m\u001b[0m\u001b[0m\n\u001b[0m",
      "\u001b[1;31mNameError\u001b[0m: name 'add_edge' is not defined"
     ]
    }
   ],
   "source": [
    "help(add_edge)"
   ]
  },
  {
   "cell_type": "code",
   "execution_count": 16,
   "metadata": {},
   "outputs": [],
   "source": [
    "vrc = VietorisRipsComplex(points = [(0.1, 0.1, 0.1, 0.1), (0.1, 0.1, 0.1, 0.1)], epsilon = 1)"
   ]
  },
  {
   "cell_type": "code",
   "execution_count": 22,
   "metadata": {},
   "outputs": [
    {
     "data": {
      "text/plain": [
       "<networkx.classes.graph.Graph at 0x1f4ab0365c0>"
      ]
     },
     "execution_count": 22,
     "metadata": {},
     "output_type": "execute_result"
    }
   ],
   "source": [
    "vrc.network"
   ]
  },
  {
   "cell_type": "code",
   "execution_count": 14,
   "metadata": {},
   "outputs": [
    {
     "data": {
      "text/plain": [
       "EdgeView([])"
      ]
     },
     "execution_count": 14,
     "metadata": {},
     "output_type": "execute_result"
    }
   ],
   "source": [
    "vrc.network.edges()"
   ]
  },
  {
   "cell_type": "code",
   "execution_count": 9,
   "metadata": {
    "collapsed": true
   },
   "outputs": [],
   "source": [
    "from importlib import reload \n",
    "reload(vrc)\n",
    "\n",
    "sc = vrc.SimplicialComplex([('f', 'e', 'g', 'h'), ('a', 'b', 'c', 'd')])\n"
   ]
  },
  {
   "cell_type": "code",
   "execution_count": 11,
   "metadata": {
    "collapsed": true
   },
   "outputs": [],
   "source": [
    "vc = vrc.VietorisRipsComplex(sc, epsilon = 1)"
   ]
  },
  {
   "cell_type": "code",
   "execution_count": 12,
   "metadata": {},
   "outputs": [
    {
     "data": {
      "text/plain": [
       "<vrc.VietorisRipsComplex at 0x211965b4e10>"
      ]
     },
     "execution_count": 12,
     "metadata": {},
     "output_type": "execute_result"
    }
   ],
   "source": [
    "vc"
   ]
  },
  {
   "cell_type": "code",
   "execution_count": null,
   "metadata": {
    "collapsed": true
   },
   "outputs": [],
   "source": []
  },
  {
   "cell_type": "code",
   "execution_count": null,
   "metadata": {
    "collapsed": true
   },
   "outputs": [],
   "source": []
  },
  {
   "cell_type": "markdown",
   "metadata": {},
   "source": [
    "### topologylayer"
   ]
  },
  {
   "cell_type": "code",
   "execution_count": 2,
   "metadata": {},
   "outputs": [],
   "source": [
    "from topologylayer.nn import AlphaLayer, BarcodePolyFeature\n",
    "import torch, numpy as np, matplotlib.pyplot as plt"
   ]
  },
  {
   "cell_type": "code",
   "execution_count": 5,
   "metadata": {},
   "outputs": [
    {
     "data": {
      "image/png": "[encoded data removed]",
      "text/plain": [
       "<Figure size 720x360 with 2 Axes>"
      ]
     },
     "metadata": {
      "needs_background": "light"
     },
     "output_type": "display_data"
    }
   ],
   "source": [
    "# random pointcloud\n",
    "np.random.seed(0)\n",
    "data = np.random.rand(100, 2)\n",
    "\n",
    "# optimization to increase size of holes\n",
    "layer = AlphaLayer(maxdim=1)\n",
    "x = torch.autograd.Variable(torch.tensor(data).type(torch.float), requires_grad=True)\n",
    "f1 = BarcodePolyFeature(1,2,0)\n",
    "optimizer = torch.optim.Adam([x], lr=1e-2)\n",
    "for i in range(100):\n",
    "    optimizer.zero_grad()\n",
    "    loss = -f1(layer(x))\n",
    "    loss.backward()\n",
    "    optimizer.step()\n",
    "    \n",
    "    \n",
    "# save figure\n",
    "y = x.detach().numpy()\n",
    "fig, ax = plt.subplots(ncols=2, figsize=(10,5))\n",
    "ax[0].scatter(data[:,0], data[:,1])\n",
    "ax[0].set_title(\"Before\")\n",
    "ax[1].scatter(y[:,0], y[:,1])\n",
    "ax[1].set_title(\"After\")\n",
    "for i in range(2):\n",
    "    ax[i].set_yticklabels([])\n",
    "    ax[i].set_xticklabels([])\n",
    "    ax[i].tick_params(bottom=False, left=False)\n",
    "plt.savefig('holes.png')"
   ]
  },
  {
   "cell_type": "code",
   "execution_count": 8,
   "metadata": {},
   "outputs": [],
   "source": [
    "import torch\n",
    "from topologylayer.nn import LevelSetLayer1D, SumBarcodeLengths\n",
    "# creates a superlevel set layer on a 10-point line.\n",
    "layer = LevelSetLayer1D(size=10, sublevel=False)\n",
    "feat = SumBarcodeLengths(dim=0)\n",
    "y = torch.rand(10, dtype=torch.float).requires_grad_(True)\n",
    "p = feat(layer(y))"
   ]
  },
  {
   "cell_type": "code",
   "execution_count": 12,
   "metadata": {},
   "outputs": [
    {
     "data": {
      "text/plain": [
       "tensor(1.7371, grad_fn=<SumBackward2>)"
      ]
     },
     "execution_count": 12,
     "metadata": {},
     "output_type": "execute_result"
    }
   ],
   "source": []
  },
  {
   "cell_type": "code",
   "execution_count": null,
   "metadata": {},
   "outputs": [],
   "source": []
  },
  {
   "cell_type": "code",
   "execution_count": null,
   "metadata": {},
   "outputs": [],
   "source": []
  },
  {
   "cell_type": "code",
   "execution_count": 13,
   "metadata": {},
   "outputs": [],
   "source": [
    "from topologylayer.nn import LevelSetLayer2D, SumBarcodeLengths\n",
    "import torch\n",
    "\n",
    "layer = LevelSetLayer2D(size=(3,3), maxdim=1, sublevel=False)\n",
    "x = torch.tensor([[2, 1, 1],[1, 0.5, 1],[1, 1, 1]], dtype=torch.float)\n",
    "dgms, issublevelset = layer(x)"
   ]
  },
  {
   "cell_type": "code",
   "execution_count": 18,
   "metadata": {},
   "outputs": [
    {
     "data": {
      "text/plain": [
       "(tensor([[2.0000,   -inf],\n",
       "         [1.0000, 1.0000],\n",
       "         [1.0000, 1.0000],\n",
       "         [1.0000, 1.0000],\n",
       "         [1.0000, 1.0000],\n",
       "         [1.0000, 1.0000],\n",
       "         [1.0000, 1.0000],\n",
       "         [1.0000, 1.0000],\n",
       "         [0.5000, 0.5000]]), tensor([[1.0000, 1.0000],\n",
       "         [1.0000, 1.0000],\n",
       "         [1.0000, 0.5000],\n",
       "         [0.5000, 0.5000],\n",
       "         [0.5000, 0.5000],\n",
       "         [0.5000, 0.5000],\n",
       "         [0.5000, 0.5000],\n",
       "         [0.5000, 0.5000]]))"
      ]
     },
     "execution_count": 18,
     "metadata": {},
     "output_type": "execute_result"
    }
   ],
   "source": [
    "dgms"
   ]
  },
  {
   "cell_type": "code",
   "execution_count": 19,
   "metadata": {},
   "outputs": [],
   "source": [
    "from topologylayer import SimplicialComplex\n",
    "from topologylayer.nn import LevelSetLayer\n",
    "import torch\n",
    "\n",
    "cpx = SimplicialComplex()\n",
    "cpx.append([0])\n",
    "for i in range(1,5):\n",
    "    cpx.append([i])\n",
    "    cpx.append([0,i])\n",
    "\n",
    "layer = LevelSetLayer(cpx, maxdim=0, sublevel=True)\n",
    "y = torch.tensor([1,0,0,0,0], dtype=torch.float).requires_grad_(True)\n",
    "dgms, issublevel = layer(y)"
   ]
  },
  {
   "cell_type": "code",
   "execution_count": 23,
   "metadata": {
    "scrolled": true
   },
   "outputs": [
    {
     "name": "stdout",
     "output_type": "stream",
     "text": [
      "[0]\n",
      "[1]\n",
      "[0, 1]\n",
      "[2]\n",
      "[0, 2]\n",
      "[3]\n",
      "[0, 3]\n",
      "[4]\n",
      "[0, 4]\n"
     ]
    }
   ],
   "source": [
    "cpx.printCells()"
   ]
  },
  {
   "cell_type": "code",
   "execution_count": 24,
   "metadata": {},
   "outputs": [
    {
     "data": {
      "text/plain": [
       "tensor([1., 0., 0., 0., 0.], requires_grad=True)"
      ]
     },
     "execution_count": 24,
     "metadata": {},
     "output_type": "execute_result"
    }
   ],
   "source": [
    "y"
   ]
  },
  {
   "cell_type": "code",
   "execution_count": 25,
   "metadata": {
    "scrolled": true
   },
   "outputs": [
    {
     "data": {
      "text/plain": [
       "(tensor([[0., inf],\n",
       "         [0., 1.],\n",
       "         [0., 1.],\n",
       "         [0., 1.],\n",
       "         [1., 1.]], grad_fn=<SubLevelSetDiagramBackward>),)"
      ]
     },
     "execution_count": 25,
     "metadata": {},
     "output_type": "execute_result"
    }
   ],
   "source": [
    "dgms"
   ]
  },
  {
   "cell_type": "code",
   "execution_count": 26,
   "metadata": {},
   "outputs": [],
   "source": [
    "import torch\n",
    "from topologylayer.nn import RipsLayer\n",
    "n, d = 10, 2\n",
    "layer = RipsLayer(n, maxdim=1)\n",
    "x = torch.rand(n, d, dtype=torch.float).requires_grad_(True)\n",
    "dgms, issublevelset = layer(x)"
   ]
  },
  {
   "cell_type": "code",
   "execution_count": 29,
   "metadata": {},
   "outputs": [
    {
     "name": "stdout",
     "output_type": "stream",
     "text": [
      "tensor([[0.7464, 0.5587],\n",
      "        [0.7149, 0.9730],\n",
      "        [0.3120, 0.6804],\n",
      "        [0.0451, 0.1562],\n",
      "        [0.2335, 0.6036],\n",
      "        [0.7455, 0.5065],\n",
      "        [0.4948, 0.7577],\n",
      "        [0.3208, 0.9709],\n",
      "        [0.5341, 0.2685],\n",
      "        [0.7991, 0.9986]], requires_grad=True)\n",
      "(tensor([[0.0000,    inf],\n",
      "        [0.0000, 0.3208],\n",
      "        [0.0000, 0.3079],\n",
      "        [0.0000, 0.4855],\n",
      "        [0.0000, 0.1098],\n",
      "        [0.0000, 0.0522],\n",
      "        [0.0000, 0.1985],\n",
      "        [0.0000, 0.2752],\n",
      "        [0.0000, 0.3183],\n",
      "        [0.0000, 0.0881]], grad_fn=<FlagDiagramBackward>), tensor([[0.2906, 0.2906],\n",
      "        [0.3033, 0.3033],\n",
      "        [0.3549, 0.3549],\n",
      "        [0.3596, 0.3596],\n",
      "        [0.3775, 0.3775],\n",
      "        [0.3882, 0.3882],\n",
      "        [0.3941, 0.3941],\n",
      "        [0.4156, 0.4156],\n",
      "        [0.4431, 0.4431],\n",
      "        [0.4502, 0.4680],\n",
      "        [0.4512, 0.4512],\n",
      "        [0.4671, 0.4671],\n",
      "        [0.4676, 0.4676],\n",
      "        [0.4680, 0.4680],\n",
      "        [0.4791, 0.4791],\n",
      "        [0.4908, 0.4908],\n",
      "        [0.4951, 0.4951],\n",
      "        [0.4980, 0.4980],\n",
      "        [0.5017, 0.5017],\n",
      "        [0.5149, 0.5149],\n",
      "        [0.5211, 0.5211],\n",
      "        [0.5819, 0.5819],\n",
      "        [0.5882, 0.5882],\n",
      "        [0.5925, 0.5925],\n",
      "        [0.6068, 0.6068],\n",
      "        [0.6293, 0.6293],\n",
      "        [0.6899, 0.6899],\n",
      "        [0.7274, 0.7274],\n",
      "        [0.7340, 0.7340],\n",
      "        [0.7510, 0.7510],\n",
      "        [0.7767, 0.7767],\n",
      "        [0.7830, 0.7830],\n",
      "        [0.8086, 0.8086],\n",
      "        [0.8600, 0.8600],\n",
      "        [1.0563, 1.0563],\n",
      "        [1.1306, 1.1306]], grad_fn=<FlagDiagramBackward>))\n"
     ]
    }
   ],
   "source": [
    "print(x)\n",
    "print(dgms)"
   ]
  },
  {
   "cell_type": "code",
   "execution_count": null,
   "metadata": {},
   "outputs": [],
   "source": []
  },
  {
   "cell_type": "code",
   "execution_count": null,
   "metadata": {},
   "outputs": [],
   "source": []
  },
  {
   "cell_type": "code",
   "execution_count": null,
   "metadata": {},
   "outputs": [],
   "source": []
  },
  {
   "cell_type": "code",
   "execution_count": null,
   "metadata": {},
   "outputs": [],
   "source": []
  },
  {
   "cell_type": "markdown",
   "metadata": {},
   "source": [
    "### Plex4"
   ]
  },
  {
   "cell_type": "code",
   "execution_count": null,
   "metadata": {},
   "outputs": [],
   "source": [
    "function intervals = SIFTS(D, max_dimension, max_filtration_value, num_divisions)\n",
    "% Compute the Similarity Filtration with Tim Skeleton (SIFTS).\n",
    "%\n",
    "% intervals = SIFTS(D, max_dimension, max_filtration_value, num_divisions)\n",
    "%\n",
    "% Input\n",
    "%\tD: an n*n symmetric matrix, D_ij = the distance between points i, j\n",
    "%\tmax_dimension: \n",
    "%\t\tE.g. 2 to get 0-homology (clusters) and 1-homology (holes)\n",
    "%\tmax_filtration_value: the largest diameter when constructing the Rips complex.  \n",
    "%\t\tE.g. max(max(D)), though sometimes the Rips complex is too big.\n",
    "%\tnum_divisions:\n",
    "%\t\tFiltration resolution, e.g. 100.\n",
    "%\n",
    "% Output\n",
    "%\tintervals: the birth-death intervals of persistent homology groups.\n",
    "% \t\tTo extract the 1-homology barcodes from time skeleton semantic filtration, do\n",
    "%\t\tendpoints = homology.barcodes.BarcodeUtility.getEndpoints(intervals, 1, true)\n",
    "%\t\tSee javaPlex documentation for details.\n",
    "%\n",
    "% Note: Be sure to run load_javaplex first.\n",
    "%\n",
    "% Created by: Xiaojin Zhu, jerryzhu@cs.wisc.edu.  April 2013.\n",
    "%\n",
    "% Citation:\n",
    "%    Xiaojin Zhu. \n",
    "%    Persistent homology: An introduction and a new text representation for natural language processing. \n",
    "%    In The 23rd International Joint Conference on Artificial Intelligence (IJCAI), \n",
    "%    2013. \n",
    "\n",
    "import edu.stanford.math.plex4.*;\n",
    "\n",
    "% time skeleton\n",
    "for i=1:size(D,1)-1,\n",
    "  D(i,i+1)=0;\n",
    "  D(i+1,i)=0;\n",
    "end\n",
    "\n",
    "% create a Vietoris-Rips stream\n",
    "m_space = metric.impl.ExplicitMetricSpace(D);\n",
    "stream = api.Plex4.createVietorisRipsStream(m_space, max_dimension, max_filtration_value, num_divisions);\n",
    "stream.finalizeStream();\n",
    "fprintf('SIFTS: Rips complex size=%d\\n',stream.getSize());\n",
    "\n",
    "% get persistence algorithm over Z/2Z\n",
    "persistence = api.Plex4.getModularSimplicialAlgorithm(max_dimension, 2);\n",
    "\n",
    "% compute the persistent intervals\n",
    "intervals = persistence.computeAnnotatedIntervals(stream)\n",
    "\n",
    "% create the barcode plots\n",
    "options.filename = 'SIFTS';\n",
    "options.max_filtration_value = max_filtration_value;\n",
    "options.max_dimension = max_dimension - 1;\n",
    "plot_barcodes(intervals, options);"
   ]
  },
  {
   "cell_type": "code",
   "execution_count": 31,
   "metadata": {},
   "outputs": [
    {
     "ename": "ModuleNotFoundError",
     "evalue": "No module named 'edu'",
     "output_type": "error",
     "traceback": [
      "\u001b[0;31m---------------------------------------------------------------------------\u001b[0m",
      "\u001b[0;31mModuleNotFoundError\u001b[0m                       Traceback (most recent call last)",
      "\u001b[0;32m<ipython-input-31-848e47e92349>\u001b[0m in \u001b[0;36m<module>\u001b[0;34m\u001b[0m\n\u001b[0;32m----> 1\u001b[0;31m \u001b[0;32mimport\u001b[0m \u001b[0medu\u001b[0m\u001b[0;34m.\u001b[0m\u001b[0mstanford\u001b[0m\u001b[0;34m.\u001b[0m\u001b[0mmath\u001b[0m\u001b[0;34m.\u001b[0m\u001b[0mplex4\u001b[0m\u001b[0;34m\u001b[0m\u001b[0;34m\u001b[0m\u001b[0m\n\u001b[0m",
      "\u001b[0;31mModuleNotFoundError\u001b[0m: No module named 'edu'"
     ]
    }
   ],
   "source": [
    "import edu.stanford.math.plex4"
   ]
  },
  {
   "cell_type": "code",
   "execution_count": 36,
   "metadata": {},
   "outputs": [],
   "source": [
    "import pickle, sys, os \n",
    "from collections import defaultdict"
   ]
  },
  {
   "cell_type": "code",
   "execution_count": 40,
   "metadata": {},
   "outputs": [
    {
     "data": {
      "text/plain": [
       "['/anaconda3/lib/python3.7/site-packages/ipykernel_launcher.py',\n",
       " '-f',\n",
       " '/Users/Mateusz_Jodlowski/Library/Jupyter/runtime/kernel-49bcff85-c6a8-45ff-b8cf-1dd1f0a71443.json']"
      ]
     },
     "execution_count": 40,
     "metadata": {},
     "output_type": "execute_result"
    }
   ],
   "source": [
    "sys.argv"
   ]
  },
  {
   "cell_type": "code",
   "execution_count": 38,
   "metadata": {},
   "outputs": [
    {
     "ename": "IndexError",
     "evalue": "list index out of range",
     "output_type": "error",
     "traceback": [
      "\u001b[0;31m---------------------------------------------------------------------------\u001b[0m",
      "\u001b[0;31mIndexError\u001b[0m                                Traceback (most recent call last)",
      "\u001b[0;32m<ipython-input-38-56dbc0f51ed7>\u001b[0m in \u001b[0;36m<module>\u001b[0;34m\u001b[0m\n\u001b[0;32m----> 1\u001b[0;31m \u001b[0mjavaplex_path\u001b[0m\u001b[0;34m=\u001b[0m\u001b[0mstr\u001b[0m\u001b[0;34m(\u001b[0m\u001b[0msys\u001b[0m\u001b[0;34m.\u001b[0m\u001b[0margv\u001b[0m\u001b[0;34m[\u001b[0m\u001b[0;36m5\u001b[0m\u001b[0;34m]\u001b[0m\u001b[0;34m)\u001b[0m\u001b[0;34m\u001b[0m\u001b[0;34m\u001b[0m\u001b[0m\n\u001b[0m",
      "\u001b[0;31mIndexError\u001b[0m: list index out of range"
     ]
    }
   ],
   "source": [
    "javaplex_path=str(sys.argv[5])"
   ]
  },
  {
   "cell_type": "code",
   "execution_count": 37,
   "metadata": {},
   "outputs": [
    {
     "ename": "NameError",
     "evalue": "name 'javaplex_path' is not defined",
     "output_type": "error",
     "traceback": [
      "\u001b[0;31m---------------------------------------------------------------------------\u001b[0m",
      "\u001b[0;31mNameError\u001b[0m                                 Traceback (most recent call last)",
      "\u001b[0;32m<ipython-input-37-cae1516e3471>\u001b[0m in \u001b[0;36m<module>\u001b[0;34m\u001b[0m\n\u001b[1;32m      1\u001b[0m libs = [                                                                                                 \n\u001b[0;32m----> 2\u001b[0;31m          \u001b[0mos\u001b[0m\u001b[0;34m.\u001b[0m\u001b[0mpath\u001b[0m\u001b[0;34m.\u001b[0m\u001b[0mjoin\u001b[0m\u001b[0;34m(\u001b[0m\u001b[0mjavaplex_path\u001b[0m\u001b[0;34m,\u001b[0m\u001b[0;34m'javaplex.jar'\u001b[0m\u001b[0;34m)\u001b[0m\u001b[0;34m\u001b[0m\u001b[0;34m\u001b[0m\u001b[0m\n\u001b[0m\u001b[1;32m      3\u001b[0m  \t]                    \n\u001b[1;32m      4\u001b[0m \u001b[0mprint\u001b[0m\u001b[0;34m(\u001b[0m\u001b[0mlibs\u001b[0m\u001b[0;34m)\u001b[0m\u001b[0;34m\u001b[0m\u001b[0;34m\u001b[0m\u001b[0m\n",
      "\u001b[0;31mNameError\u001b[0m: name 'javaplex_path' is not defined"
     ]
    }
   ],
   "source": [
    "libs = [                                                                                                 \n",
    "\t os.path.join(javaplex_path,'javaplex.jar')\n",
    " \t]                    \n",
    "print(libs)   "
   ]
  },
  {
   "cell_type": "code",
   "execution_count": 42,
   "metadata": {},
   "outputs": [
    {
     "ename": "ModuleNotFoundError",
     "evalue": "No module named 'matlab.engine'; 'matlab' is not a package",
     "output_type": "error",
     "traceback": [
      "\u001b[0;31m---------------------------------------------------------------------------\u001b[0m",
      "\u001b[0;31mModuleNotFoundError\u001b[0m                       Traceback (most recent call last)",
      "\u001b[0;32m<ipython-input-42-754f7d50ef2a>\u001b[0m in \u001b[0;36m<module>\u001b[0;34m\u001b[0m\n\u001b[0;32m----> 1\u001b[0;31m \u001b[0;32mimport\u001b[0m \u001b[0mmatlab\u001b[0m\u001b[0;34m.\u001b[0m\u001b[0mengine\u001b[0m\u001b[0;34m\u001b[0m\u001b[0;34m\u001b[0m\u001b[0m\n\u001b[0m",
      "\u001b[0;31mModuleNotFoundError\u001b[0m: No module named 'matlab.engine'; 'matlab' is not a package"
     ]
    }
   ],
   "source": [
    "import matlab.engine"
   ]
  },
  {
   "cell_type": "code",
   "execution_count": null,
   "metadata": {},
   "outputs": [],
   "source": []
  },
  {
   "cell_type": "code",
   "execution_count": null,
   "metadata": {},
   "outputs": [],
   "source": []
  },
  {
   "cell_type": "code",
   "execution_count": null,
   "metadata": {},
   "outputs": [],
   "source": []
  },
  {
   "cell_type": "code",
   "execution_count": null,
   "metadata": {},
   "outputs": [],
   "source": []
  }
 ],
 "metadata": {
  "kernelspec": {
   "display_name": "Python 3",
   "language": "python",
   "name": "python3"
  },
  "language_info": {
   "codemirror_mode": {
    "name": "ipython",
    "version": 3
   },
   "file_extension": ".py",
   "mimetype": "text/x-python",
   "name": "python",
   "nbconvert_exporter": "python",
   "pygments_lexer": "ipython3",
   "version": "3.7.3"
  }
 },
 "nbformat": 4,
 "nbformat_minor": 2
}
